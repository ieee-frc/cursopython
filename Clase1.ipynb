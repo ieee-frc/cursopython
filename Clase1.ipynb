{
  "nbformat": 4,
  "nbformat_minor": 0,
  "metadata": {
    "colab": {
      "name": "Untitled1.ipynb",
      "provenance": [],
      "authorship_tag": "ABX9TyNKjkNRxZ5msz8PFDhP2ZP9",
      "include_colab_link": true
    },
    "kernelspec": {
      "name": "python3",
      "display_name": "Python 3"
    }
  },
  "cells": [
    {
      "cell_type": "markdown",
      "metadata": {
        "id": "view-in-github",
        "colab_type": "text"
      },
      "source": [
        "<a href=\"https://colab.research.google.com/github/ieee-frc/cursopython/blob/main/Clase1.ipynb\" target=\"_parent\"><img src=\"https://colab.research.google.com/assets/colab-badge.svg\" alt=\"Open In Colab\"/></a>"
      ]
    },
    {
      "cell_type": "markdown",
      "metadata": {
        "id": "yC1Csc0B85qW"
      },
      "source": [
        "# Curso de Python \n",
        "\n",
        "## Formato de curso \n",
        "\n",
        "\n",
        "## Qué es un lenguaje de programación \n",
        "\n",
        "  ### Tipos de lenguaje \n",
        "\n",
        "## Un poco de historia de Python \n",
        "\n"
      ]
    }
  ]
}