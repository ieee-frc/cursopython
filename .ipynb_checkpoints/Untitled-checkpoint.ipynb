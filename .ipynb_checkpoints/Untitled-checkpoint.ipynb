{
 "cells": [
  {
   "cell_type": "markdown",
   "metadata": {},
   "source": [
    "\n",
    "\n",
    "\n",
    "![Logo Rama IEEE UTN](https://i.ibb.co/Rp0xGw4/logo-IEEE.png)\n",
    "\n",
    "\n",
    " \n",
    "# Curso Python Inicial - Rama Estudiantil IEEE \n",
    "\n",
    "\n",
    "    Bienvenidos al curso de Python gratuito dictado por la Rama Estudiantil de IEEE de la Universidad Tecnológica Nacional. \n",
    "\n",
    "    No es necesario tener conocimientos previos de programación ni una computadora de última tecnología. Es abierto y gratuito, y será acompañado de clases quincenales online y clases de consultas semanales. \n",
    "\n",
    "\n"
   ]
  }
 ],
 "metadata": {
  "kernelspec": {
   "display_name": "Python 3",
   "language": "python",
   "name": "python3"
  },
  "language_info": {
   "codemirror_mode": {
    "name": "ipython",
    "version": 3
   },
   "file_extension": ".py",
   "mimetype": "text/x-python",
   "name": "python",
   "nbconvert_exporter": "python",
   "pygments_lexer": "ipython3",
   "version": "3.8.5"
  }
 },
 "nbformat": 4,
 "nbformat_minor": 4
}
