{
 "cells": [
  {
   "cell_type": "markdown",
   "metadata": {
    "colab_type": "text",
    "id": "view-in-github"
   },
   "source": [
    "<a href=\"https://colab.research.google.com/github/ieee-frc/cursopython/blob/main/Modulo_1.ipynb\" target=\"_parent\"><img src=\"https://colab.research.google.com/assets/colab-badge.svg\" alt=\"Open In Colab\"/></a>"
   ]
  },
  {
   "cell_type": "markdown",
   "metadata": {
    "id": "0l-JjSb7fi_s"
   },
   "source": [
    "# Módulo 1 : Introducción a la programación \n",
    "\n",
    "\n",
    "\n",
    "La programación es un proceso que abarca el diseño de una solución a un problema,o una tarea ardua, mediante una serie de pasos (algoritmo) y la implementación de estas para que un computador pueda ejecutarlas y resolver nuestro cometido. \n",
    "\n",
    "Este conjunto de instrucciones que resuelven la tarea determinada es lo que denominamos **programa** o aplicación.\n",
    "\n",
    "\n",
    " Como habrán escuchado las computadoras trabajan o \"entienden\" solo lenguaje binario, ceros (0) y unos (1). Si queremos que nuestro computador ejecute las instrucciones que le programemos necesitamos que las entienda. Por ello tendríamos que traducir todas nuestras instrucciones a una serie de ceros y unos y esto sería casi imposible y extremademente dificil, entre otro varios problemas.Para poder implementar de una manera más eficiente las series de instrucciones y que sean ejecutadas por la computadora se utiliza un lenguaje de programación.\n",
    "\n",
    "<a href=\"https://commons.wikimedia.org/wiki/File:Codigo_de_maquina.png#/media/Archivo:Codigo_de_maquina.png\"><img src=\"https://upload.wikimedia.org/wikipedia/commons/f/f3/Codigo_de_maquina.png\" alt=\"Codigo de maquina.png\"></a>\n",
    "    \n",
    "En la imagen de [wikipedia](https://es.wikipedia.org/wiki/Lenguaje_ensamblador) se puede observar lenguaje ensamblador (un lenguaje de programación muy cercano o ligado al lenguaje binario) en la caja de color magenta y en rojo el conjunto de instrucciones en Hexadecimal. Se muestra en base hexadecimal y no binaria para facilitar la lectura. Cada caracter (número o letra) representa una serie de 4 bits (4 \"cifras\" binarias). En la parte inferior se observa la salida de ese programa (también en hexadecimal) y en azul lo que esa salida representa si se \"traduce\" o codifica a texto.  \n",
    "    \n",
    "    \n",
    "## Lenguaje de programación \n",
    "\n",
    "\n",
    "Entonces, el lenguaje de programación, es el lenguaje que estará entre un nivel medio entre el lenguaje binario y el lenguaje humano, permitiéndonos implementar de una manera eficiente las insutrcciones ordenadas que nosotros entendamos pero al mismo tiempo que el computador pueda ejecutar. \n",
    "\n",
    "Una definición protocolar o seria: Un lenguaje deprogramación es un lenguaje **formal** que, mediante una serie de instrucciones, le permite a un programador escribir un conjunto de órdenes, acciones consecutivas, datos y algoritmos para, de esa forma, crear programas que controlen el comportamiento físico y lógico de una máquina. \n",
    "\n",
    "Que es un lenguaje formal signfica que existen reglas creadas por convenio que se deben respetar. Similar a los lenguajes humanos, donde cada lengua tiene sus reglas y que todos sus hablantes deben respetar para poder comunicarse. \n",
    "\n",
    "Básicamente, el lenguaje de programación es lo que nos permite escribir instrucciones que hacen a un programa de computador, de una manera amigable, legible por nosotros y por cualquier otro programador. \n",
    "\n",
    "No se debe olvidar que la computadora solo entiende lenguaje binario. Se necesita, entonces, un \"traductor\" que convierta las instrucciones escritas en cierto lenguaje de programación a binario. Estos traductores son conocidos como los **compiladores** o **intérpretes**. \n",
    "\n",
    "Existen cientos o miles de lenguajes de programación, algunos más legibles para los humanos, otros menos legibles y más cercanos a lenguaje binario, la mayoría con palabras en el idioma inglés como símbolos, algunos otros en japonés,español, etc. \n",
    "\n",
    "<img src=\"https://img2.freepng.es/20180529/bej/kisspng-types-and-programming-languages-computer-programmi-programming-language-5b0d9e5b27f3d0.7894406415276191631637.jpg\" alt=\"Lenguajes de programación\">\n",
    "\n",
    "Entre los más populares se pueden mencionar, Python, PHP, Java, JavaScript,C, C++, Go, Basic y el recientemente considerado como tal: Excel. Pueden chequear los lenguajes más populares según un índice de la compañía [Tiobe](https://www.tiobe.com/tiobe-index/) actualizado día a día. En 2020, el lenguaje más utilizado fue **python**. \n",
    "\n",
    "Probablemente también hayan escuchado hablar de HTML o CSS, pero estos **no son lenguajes de programación**. Remitiéndonos a la definición, encontramos que a través de los lenguajes podemos implementar una serie de pasos o instrucciones para resolver una tarea. Esto no es posible en HTML o CSS. En estos lenguajes solo se indican ciertas cararcterísticas o estilos de una plantilla. Estos se conocen como **lenguajes de marcado** y existen otros como, como MarkDown,en el cual está escrito este documento.  \n",
    "\n",
    "\n",
    "### Tipos de lenguaje de programación \n",
    "\n",
    "Se pueden agrupar en distintas clasificaciones.  \n",
    "\n",
    "* Según su cercanía y dependencia al *hardware*.Es decir si el lenguaje hace manejo directo de registros o partes físicas del computador. Se puede entender también como su cercanía al lenguaje binario. Los lenguajes más dependientes del hardware se conocen como **lenguajes de bajo nivel**, como ejemplo el lenguaje assembler y los más abstraídos del hardware son los **lenguajes de alto nivel** como Python. \n",
    "\n",
    "* Según su \"traducción\". Mencionamos que el lenguaje de programación debe ser convertido en binario para que el computador pueda ejecutar las intrucciones. A grandes rasgos hay dos formas de realizar esta conversión: los **lenguajes compilados** lo hacen mediante compiladores, y los **lenguajes interpretados** mediante **intérpretes**. De una manera resumida este último, a diferencia del primero, va traduciendo cada instrucción a medida que se van realizando, similar a un intérprete de idiomas que traduce a medida que alguien habla. El compilador, en cambio, se encarga de convertir todas las instrucciones a lenguaje binario de una sola vez. No entraremos en más detalles pero esta diferencia es crucial en algunas aplicaciones, por lo que muchas veces se debe elegir entre uno u otro para optener el mejor resultado. \n",
    "\n",
    "\n",
    "* Según su paradigma. En informática, los paradigmas de programación son modelos, plantillas o pasos a seguir, para resolver problemas.Algunos paradigmas son:\n",
    "    * Funcional \n",
    "    * POO (Programación orientada a objetos) \n",
    "    * Declarativa\n",
    "    * Imperativa \n",
    "    * Multiparadigma\n",
    "    \n",
    "\n",
    "\n",
    "\n",
    "## Entornos de desarrollo \n",
    "\n",
    "Explicar que son \n",
    "\n",
    "Mencionar los que aconsejamos usar: Thonny, PyCharm ( o Spyder creo), VS Code, Ipython (para probar cosas chicas antes de agregar al codigo) \n",
    "\n",
    "\n",
    "## Algoritmos \n",
    "\n",
    "Son pasos ordenados ..... \n",
    "Ejemplos con tareas cotidianas \n",
    "\n",
    "Mecinoar para ese \"algoritmo\" cual sería la variable, control de flujo, y todo eso así despues lo pasamos a sintaxis de Python \n",
    "\n",
    "## Sintaxis de Python \n",
    "\n",
    "Como todo lenguaje humano se debe respetar ciertas reglas. Cuando se habla de lenguaje de programación estas reglas se conocen como __sintáxis__ \n",
    "\n",
    "\n",
    "Guia de PEP de buenas prácticas \n",
    "\n",
    "\n",
    "Los __comentarios__ son porciones del código que están presenten pero que no son escritas en lenguaje de programación sino en lenguaje humano y son de ayuda para el programador. Esto se preceden por un \"#\" \n",
    "\n",
    "`Esto es una instrucción` \n",
    "\n",
    "`#Esto es un comentario` \n",
    "\n",
    "### Instrucciones \n",
    "\n",
    "Una __instrucción__ en python puede ocupar una línea o varias líneas. \n",
    "\n",
    "`Una instrucción ` \n",
    "\n",
    "`Una instruccion \n",
    "       de varias \n",
    "       lineas`\n",
    "\n",
    "Cada vez que queramos escribir una nueva instrucción debemos hacerlo en una línea nuevo desde el principió \n",
    "\n",
    "\n",
    "`Instrucción 1`\n",
    "\n",
    "\n",
    "`Instruccion 2 \n",
    "    de varias \n",
    "    lineas`\n",
    "    \n",
    "\n",
    "`Instrucción 3` \n",
    "\n",
    "\n",
    "Ejemplo con printf(\"Hola mundo\") en CELDA \n"
   ]
  },
  {
   "cell_type": "code",
   "execution_count": null,
   "metadata": {
    "id": "h4qlXrKWfi_z"
   },
   "outputs": [],
   "source": [
    "print(\"Hola mundo\")"
   ]
  },
  {
   "cell_type": "markdown",
   "metadata": {
    "id": "8tWPyRUWfi_1"
   },
   "source": [
    " Un __bloque de instrucciones__ es un conjunto de varias instrucciones diferentes que en conjunto realizan una tarea determinada o son parte de un paso determinado. \n",
    " \n",
    "`Instrucción 1:\n",
    "    Instruccion 1.a\n",
    "    Instrucción 1.b\n",
    "    Instrucción 1.c \n",
    "        de varias\n",
    "        lineas \n",
    " Fin Instrucción 1` \n",
    " \n",
    " En Python este bloque de instrucciones se forma por una instrucción inicial y luego en una línea nueva y con cierta \"sangría\" o indentación la nueva instrucción que depende de la incial. \n",
    " \n",
    "\n",
    "\n",
    "### Variables \n",
    "\n",
    "que son, como nombrarlas \n",
    "\n",
    "Las variables pueden ser de diferentes tipos, como se verá en el próximo modulo, según las igualemos a un número entero, decimal, a letras o palabras, etc. \n",
    "\n",
    "Como deben escribirse, términos reservados\n"
   ]
  },
  {
   "cell_type": "code",
   "execution_count": null,
   "metadata": {
    "id": "oNpfQzX6fi_1",
    "outputId": "d4958c41-2903-4432-bc68-6505ec23caf0"
   },
   "outputs": [
    {
     "name": "stdout",
     "output_type": "stream",
     "text": [
      "Hola mundo\n"
     ]
    }
   ],
   "source": [
    "texto = \"Hola mundo\"\n",
    "print(texto)"
   ]
  },
  {
   "cell_type": "markdown",
   "metadata": {
    "id": "NL_UZ6vCfi_2"
   },
   "source": [
    "**Nota**: Para imprimir hola mundo, a _texto_ no le colocamos comilla. Esto es porque es una __variable__. Ninguna variable utiliza comillas, aunque sí puede estar igualada a un texto, en donde sí es necesario utilizar comillas. \n",
    "\n",
    "Probar colocar comillas a la variable en la primera línea y luego dentro de _print()_ "
   ]
  },
  {
   "cell_type": "code",
   "execution_count": null,
   "metadata": {
    "id": "E3Z8I5N1fi_3",
    "outputId": "7c86c35d-6734-4f20-e272-33010ec60349"
   },
   "outputs": [
    {
     "ename": "SyntaxError",
     "evalue": "cannot assign to literal (<ipython-input-5-9172d4e0db2c>, line 1)",
     "output_type": "error",
     "traceback": [
      "\u001b[0;36m  File \u001b[0;32m\"<ipython-input-5-9172d4e0db2c>\"\u001b[0;36m, line \u001b[0;32m1\u001b[0m\n\u001b[0;31m    \"texto\" = \"Hola mundo\"\u001b[0m\n\u001b[0m    ^\u001b[0m\n\u001b[0;31mSyntaxError\u001b[0m\u001b[0;31m:\u001b[0m cannot assign to literal\n"
     ]
    }
   ],
   "source": [
    "texto = \"Hola mundo\"\n",
    "#\"texto\"=\"Hola mundo\"\n",
    "print(texto)\n",
    "#print(\"texto\")"
   ]
  },
  {
   "cell_type": "markdown",
   "metadata": {
    "id": "Q_VopPqAfi_4"
   },
   "source": [
    "Al colocar comillas al nombre de la variable _texto_ al igualarla a \"Hola mundo\" aparece un mensaje similar a : \n",
    "\n",
    "`File \"<ipython-input-5-9172d4e0db2c>\", line 1\n",
    "    \"texto\" = \"Hola mundo\"\n",
    "    ^\n",
    "SyntaxError: cannot assign to literal`\n",
    "\n",
    "Podemos darnos cuenta, al leer, que se trata de un __Error de sintaxis__. Esto significa que no estamos respetando alguna norma del lenguaje y este tipo de errores son de los que el compilador o traductor nos avisará. "
   ]
  },
  {
   "cell_type": "markdown",
   "metadata": {
    "id": "sPo6DMyhfi_4"
   },
   "source": [
    "### Entradas y salidas \n",
    "\n",
    "\n",
    "\n",
    "Bastantes ejercicios "
   ]
  },
  {
   "cell_type": "markdown",
   "metadata": {
    "id": "Yv3P1x-afi_5"
   },
   "source": [
    "### Operadores \n",
    "\n",
    "\n",
    "#Lindos ejercicios también "
   ]
  },
  {
   "cell_type": "markdown",
   "metadata": {
    "id": "Axkg_10efi_6"
   },
   "source": [
    "### Control de flujo \n",
    "\n",
    "Para que se usa, que son \n",
    "\n",
    "Si, sino, sino si \n",
    "\n",
    "Mientras \n",
    "\n",
    "Para \n",
    "\n",
    "\n",
    "#Y ya acá se largan los ejercicios lindos \n"
   ]
  },
  {
   "cell_type": "markdown",
   "metadata": {
    "id": "AfaZA3i8fi_6"
   },
   "source": [
    "## Ejercicios integradores \n"
   ]
  }
 ],
 "metadata": {
  "colab": {
   "include_colab_link": true,
   "name": "Modulo_1.ipynb",
   "provenance": []
  },
  "kernelspec": {
   "display_name": "Python 3",
   "language": "python",
   "name": "python3"
  },
  "language_info": {
   "codemirror_mode": {
    "name": "ipython",
    "version": 3
   },
   "file_extension": ".py",
   "mimetype": "text/x-python",
   "name": "python",
   "nbconvert_exporter": "python",
   "pygments_lexer": "ipython3",
   "version": "3.8.5"
  }
 },
 "nbformat": 4,
 "nbformat_minor": 1
}
