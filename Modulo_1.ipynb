{
  "nbformat": 4,
  "nbformat_minor": 0,
  "metadata": {
    "kernelspec": {
      "display_name": "Python 3",
      "language": "python",
      "name": "python3"
    },
    "language_info": {
      "codemirror_mode": {
        "name": "ipython",
        "version": 3
      },
      "file_extension": ".py",
      "mimetype": "text/x-python",
      "name": "python",
      "nbconvert_exporter": "python",
      "pygments_lexer": "ipython3",
      "version": "3.8.5"
    },
    "colab": {
      "name": "Modulo_1.ipynb",
      "provenance": [],
      "include_colab_link": true
    }
  },
  "cells": [
    {
      "cell_type": "markdown",
      "metadata": {
        "id": "view-in-github",
        "colab_type": "text"
      },
      "source": [
        "<a href=\"https://colab.research.google.com/github/ieee-frc/cursopython/blob/main/Modulo_1.ipynb\" target=\"_parent\"><img src=\"https://colab.research.google.com/assets/colab-badge.svg\" alt=\"Open In Colab\"/></a>"
      ]
    },
    {
      "cell_type": "markdown",
      "metadata": {
        "id": "0l-JjSb7fi_s"
      },
      "source": [
        "# Módulo 1 : Introducción a la programación \n",
        "\n",
        "\n",
        "\n",
        "## Lenguaje de programación \n",
        "    \n",
        "Forma de implementar instrucciones en una  computadora en una forma legible tanto para la compu como para nosotros...\n",
        "\n",
        "### Tipos de lenguaje de programación \n",
        "\n",
        "Tipado estático, dinámico, multiparadigma, alto y bajo nivel, etc \n",
        "\n",
        "TErminar diciendo que es Python, el más popular, etc \n",
        "\n",
        "### Compiladores e intérpretes \n",
        "\n",
        "Que son. como trabajan, etc. \n",
        "\n",
        "## Entornos de desarrollo \n",
        "\n",
        "Explicar que son \n",
        "\n",
        "Mencionar los que aconsejamos usar: Thonny, PyCharm ( o Spyder creo), VS Code, Ipython (para probar cosas chicas antes de agregar al codigo) \n",
        "\n",
        "\n",
        "## Algoritmos \n",
        "\n",
        "Son pasos ordenados ..... \n",
        "Ejemplos con tareas cotidianas \n",
        "\n",
        "Mecinoar para ese \"algoritmo\" cual sería la variable, control de flujo, y todo eso así despues lo pasamos a sintaxis de Python \n",
        "\n",
        "## Sintaxis de Python \n",
        "\n",
        "Como todo lenguaje humano se debe respetar ciertas reglas. Cuando se habla de lenguaje de programación estas reglas se conocen como __sintáxis__ \n",
        "\n",
        "\n",
        "Guia de PEP de buenas prácticas \n",
        "\n",
        "\n",
        "Los __comentarios__ son porciones del código que están presenten pero que no son escritas en lenguaje de programación sino en lenguaje humano y son de ayuda para el programador. Esto se preceden por un \"#\" \n",
        "\n",
        "`Esto es una instrucción` \n",
        "\n",
        "`#Esto es un comentario` \n",
        "\n",
        "### Instrucciones \n",
        "\n",
        "Una __instrucción__ en python puede ocupar una línea o varias líneas. \n",
        "\n",
        "`Una instrucción ` \n",
        "\n",
        "`Una instruccion \n",
        "       de varias \n",
        "       lineas`\n",
        "\n",
        "Cada vez que queramos escribir una nueva instrucción debemos hacerlo en una línea nuevo desde el principió \n",
        "\n",
        "\n",
        "`Instrucción 1`\n",
        "\n",
        "\n",
        "`Instruccion 2 \n",
        "    de varias \n",
        "    lineas`\n",
        "    \n",
        "\n",
        "`Instrucción 3` \n",
        "\n",
        "\n",
        "Ejemplo con printf(\"Hola mundo\") en CELDA \n"
      ]
    },
    {
      "cell_type": "code",
      "metadata": {
        "id": "h4qlXrKWfi_z"
      },
      "source": [
        "print(\"Hola mundo\")"
      ],
      "execution_count": null,
      "outputs": []
    },
    {
      "cell_type": "markdown",
      "metadata": {
        "id": "8tWPyRUWfi_1"
      },
      "source": [
        " Un __bloque de instrucciones__ es un conjunto de varias instrucciones diferentes que en conjunto realizan una tarea determinada o son parte de un paso determinado. \n",
        " \n",
        "`Instrucción 1:\n",
        "    Instruccion 1.a\n",
        "    Instrucción 1.b\n",
        "    Instrucción 1.c \n",
        "        de varias\n",
        "        lineas \n",
        " Fin Instrucción 1` \n",
        " \n",
        " En Python este bloque de instrucciones se forma por una instrucción inicial y luego en una línea nueva y con cierta \"sangría\" o indentación la nueva instrucción que depende de la incial. \n",
        " \n",
        "\n",
        "\n",
        "### Variables \n",
        "\n",
        "que son, como nombrarlas \n",
        "\n",
        "Las variables pueden ser de diferentes tipos, como se verá en el próximo modulo, según las igualemos a un número entero, decimal, a letras o palabras, etc. \n",
        "\n",
        "Como deben escribirse, términos reservados\n"
      ]
    },
    {
      "cell_type": "code",
      "metadata": {
        "id": "oNpfQzX6fi_1",
        "outputId": "d4958c41-2903-4432-bc68-6505ec23caf0"
      },
      "source": [
        "texto = \"Hola mundo\"\n",
        "print(texto)"
      ],
      "execution_count": null,
      "outputs": [
        {
          "output_type": "stream",
          "text": [
            "Hola mundo\n"
          ],
          "name": "stdout"
        }
      ]
    },
    {
      "cell_type": "markdown",
      "metadata": {
        "id": "NL_UZ6vCfi_2"
      },
      "source": [
        "**Nota**: Para imprimir hola mundo, a _texto_ no le colocamos comilla. Esto es porque es una __variable__. Ninguna variable utiliza comillas, aunque sí puede estar igualada a un texto, en donde sí es necesario utilizar comillas. \n",
        "\n",
        "Probar colocar comillas a la variable en la primera línea y luego dentro de _print()_ "
      ]
    },
    {
      "cell_type": "code",
      "metadata": {
        "id": "E3Z8I5N1fi_3",
        "outputId": "7c86c35d-6734-4f20-e272-33010ec60349"
      },
      "source": [
        "texto = \"Hola mundo\"\n",
        "#\"texto\"=\"Hola mundo\"\n",
        "print(texto)\n",
        "#print(\"texto\")"
      ],
      "execution_count": null,
      "outputs": [
        {
          "output_type": "error",
          "ename": "SyntaxError",
          "evalue": "cannot assign to literal (<ipython-input-5-9172d4e0db2c>, line 1)",
          "traceback": [
            "\u001b[0;36m  File \u001b[0;32m\"<ipython-input-5-9172d4e0db2c>\"\u001b[0;36m, line \u001b[0;32m1\u001b[0m\n\u001b[0;31m    \"texto\" = \"Hola mundo\"\u001b[0m\n\u001b[0m    ^\u001b[0m\n\u001b[0;31mSyntaxError\u001b[0m\u001b[0;31m:\u001b[0m cannot assign to literal\n"
          ]
        }
      ]
    },
    {
      "cell_type": "markdown",
      "metadata": {
        "id": "Q_VopPqAfi_4"
      },
      "source": [
        "Al colocar comillas al nombre de la variable _texto_ al igualarla a \"Hola mundo\" aparece un mensaje similar a : \n",
        "\n",
        "`File \"<ipython-input-5-9172d4e0db2c>\", line 1\n",
        "    \"texto\" = \"Hola mundo\"\n",
        "    ^\n",
        "SyntaxError: cannot assign to literal`\n",
        "\n",
        "Podemos darnos cuenta, al leer, que se trata de un __Error de sintaxis__. Esto significa que no estamos respetando alguna norma del lenguaje y este tipo de errores son de los que el compilador o traductor nos avisará. "
      ]
    },
    {
      "cell_type": "markdown",
      "metadata": {
        "id": "sPo6DMyhfi_4"
      },
      "source": [
        "### Entradas y salidas \n",
        "\n",
        "\n",
        "\n",
        "Bastantes ejercicios "
      ]
    },
    {
      "cell_type": "markdown",
      "metadata": {
        "id": "Yv3P1x-afi_5"
      },
      "source": [
        "### Operadores \n",
        "\n",
        "\n",
        "#Lindos ejercicios también "
      ]
    },
    {
      "cell_type": "markdown",
      "metadata": {
        "id": "Axkg_10efi_6"
      },
      "source": [
        "### Control de flujo \n",
        "\n",
        "Para que se usa, que son \n",
        "\n",
        "Si, sino, sino si \n",
        "\n",
        "Mientras \n",
        "\n",
        "Para \n",
        "\n",
        "\n",
        "#Y ya acá se largan los ejercicios lindos \n"
      ]
    },
    {
      "cell_type": "markdown",
      "metadata": {
        "id": "AfaZA3i8fi_6"
      },
      "source": [
        "## Ejercicios integradores \n"
      ]
    }
  ]
}