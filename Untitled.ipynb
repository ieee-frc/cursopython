{
 "cells": [
  {
   "cell_type": "markdown",
   "metadata": {},
   "source": [
    "# Módulo 1 : Introducción a la programación \n",
    "\n",
    "\n",
    "## Algoritmos \n",
    "\n",
    "Son pasos ordenados ..... \n",
    "Ejemplos con tareas cotidianas \n",
    "\n",
    "## Lenguaje de programación \n",
    "    \n",
    "Forma de implementar un algoritmo en una  computadora en una forma legible tanto para la compu como para nosotros...\n",
    "\n",
    "### Tipos de lenguaje de programación \n",
    "\n",
    "Tipado estático, dinámico, multiparadigma, alto y bajo nivel, etc \n",
    "\n",
    "TErminar diciendo que es Python, el más popular, etc \n",
    "\n",
    "\n",
    "\n"
   ]
  }
 ],
 "metadata": {
  "kernelspec": {
   "display_name": "Python 3",
   "language": "python",
   "name": "python3"
  },
  "language_info": {
   "codemirror_mode": {
    "name": "ipython",
    "version": 3
   },
   "file_extension": ".py",
   "mimetype": "text/x-python",
   "name": "python",
   "nbconvert_exporter": "python",
   "pygments_lexer": "ipython3",
   "version": "3.8.5"
  }
 },
 "nbformat": 4,
 "nbformat_minor": 4
}
